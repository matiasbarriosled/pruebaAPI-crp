{
 "cells": [
  {
   "cell_type": "code",
   "execution_count": 2,
   "metadata": {},
   "outputs": [
    {
     "name": "stdout",
     "output_type": "stream",
     "text": [
      "Requirement already satisfied: ccxt in ./env/lib/python3.11/site-packages (4.3.38)\n",
      "Requirement already satisfied: pandas in ./env/lib/python3.11/site-packages (2.2.2)\n",
      "Requirement already satisfied: scikit-learn in ./env/lib/python3.11/site-packages (1.5.0)\n",
      "Requirement already satisfied: nltk in ./env/lib/python3.11/site-packages (3.8.1)\n",
      "Requirement already satisfied: pytz in ./env/lib/python3.11/site-packages (2024.1)\n",
      "Requirement already satisfied: setuptools>=60.9.0 in ./env/lib/python3.11/site-packages (from ccxt) (70.0.0)\n",
      "Requirement already satisfied: certifi>=2018.1.18 in ./env/lib/python3.11/site-packages (from ccxt) (2024.2.2)\n",
      "Requirement already satisfied: requests>=2.18.4 in ./env/lib/python3.11/site-packages (from ccxt) (2.32.3)\n",
      "Requirement already satisfied: cryptography>=2.6.1 in ./env/lib/python3.11/site-packages (from ccxt) (42.0.7)\n",
      "Requirement already satisfied: typing-extensions>=4.4.0 in ./env/lib/python3.11/site-packages (from ccxt) (4.12.0)\n",
      "Requirement already satisfied: aiohttp>=3.8 in ./env/lib/python3.11/site-packages (from ccxt) (3.9.5)\n",
      "Requirement already satisfied: aiodns>=1.1.1 in ./env/lib/python3.11/site-packages (from ccxt) (3.2.0)\n",
      "Requirement already satisfied: yarl>=1.7.2 in ./env/lib/python3.11/site-packages (from ccxt) (1.9.4)\n",
      "Requirement already satisfied: numpy>=1.23.2 in ./env/lib/python3.11/site-packages (from pandas) (1.26.4)\n",
      "Requirement already satisfied: python-dateutil>=2.8.2 in ./env/lib/python3.11/site-packages (from pandas) (2.9.0.post0)\n",
      "Requirement already satisfied: tzdata>=2022.7 in ./env/lib/python3.11/site-packages (from pandas) (2024.1)\n",
      "Requirement already satisfied: scipy>=1.6.0 in ./env/lib/python3.11/site-packages (from scikit-learn) (1.13.1)\n",
      "Requirement already satisfied: joblib>=1.2.0 in ./env/lib/python3.11/site-packages (from scikit-learn) (1.4.2)\n",
      "Requirement already satisfied: threadpoolctl>=3.1.0 in ./env/lib/python3.11/site-packages (from scikit-learn) (3.5.0)\n",
      "Requirement already satisfied: click in ./env/lib/python3.11/site-packages (from nltk) (8.1.7)\n",
      "Requirement already satisfied: regex>=2021.8.3 in ./env/lib/python3.11/site-packages (from nltk) (2024.5.15)\n",
      "Requirement already satisfied: tqdm in ./env/lib/python3.11/site-packages (from nltk) (4.66.4)\n",
      "Requirement already satisfied: pycares>=4.0.0 in ./env/lib/python3.11/site-packages (from aiodns>=1.1.1->ccxt) (4.4.0)\n",
      "Requirement already satisfied: aiosignal>=1.1.2 in ./env/lib/python3.11/site-packages (from aiohttp>=3.8->ccxt) (1.3.1)\n",
      "Requirement already satisfied: attrs>=17.3.0 in ./env/lib/python3.11/site-packages (from aiohttp>=3.8->ccxt) (23.2.0)\n",
      "Requirement already satisfied: frozenlist>=1.1.1 in ./env/lib/python3.11/site-packages (from aiohttp>=3.8->ccxt) (1.4.1)\n",
      "Requirement already satisfied: multidict<7.0,>=4.5 in ./env/lib/python3.11/site-packages (from aiohttp>=3.8->ccxt) (6.0.5)\n",
      "Requirement already satisfied: cffi>=1.12 in ./env/lib/python3.11/site-packages (from cryptography>=2.6.1->ccxt) (1.16.0)\n",
      "Requirement already satisfied: six>=1.5 in ./env/lib/python3.11/site-packages (from python-dateutil>=2.8.2->pandas) (1.16.0)\n",
      "Requirement already satisfied: charset-normalizer<4,>=2 in ./env/lib/python3.11/site-packages (from requests>=2.18.4->ccxt) (3.3.2)\n",
      "Requirement already satisfied: idna<4,>=2.5 in ./env/lib/python3.11/site-packages (from requests>=2.18.4->ccxt) (3.7)\n",
      "Requirement already satisfied: urllib3<3,>=1.21.1 in ./env/lib/python3.11/site-packages (from requests>=2.18.4->ccxt) (2.2.1)\n",
      "Requirement already satisfied: pycparser in ./env/lib/python3.11/site-packages (from cffi>=1.12->cryptography>=2.6.1->ccxt) (2.22)\n"
     ]
    }
   ],
   "source": [
    "!pip install ccxt pandas scikit-learn nltk pytz mysql-connector-python"
   ]
  },
  {
   "cell_type": "code",
   "execution_count": 8,
   "metadata": {},
   "outputs": [
    {
     "name": "stderr",
     "output_type": "stream",
     "text": [
      "[nltk_data] Downloading package vader_lexicon to\n",
      "[nltk_data]     /home/mjb/nltk_data...\n",
      "[nltk_data]   Package vader_lexicon is already up-to-date!\n"
     ]
    }
   ],
   "source": [
    "import ccxt\n",
    "import pandas as pd\n",
    "from sklearn.model_selection import train_test_split\n",
    "from sklearn.tree import DecisionTreeClassifier\n",
    "import nltk\n",
    "from nltk.sentiment.vader import SentimentIntensityAnalyzer\n",
    "from datetime import datetime\n",
    "import pytz\n",
    "import mysql.connector\n",
    "from mysql.connector import Error\n",
    "\n",
    "nltk.download('vader_lexicon')\n",
    "sia = SentimentIntensityAnalyzer()"
   ]
  },
  {
   "cell_type": "code",
   "execution_count": 9,
   "metadata": {},
   "outputs": [
    {
     "name": "stdout",
     "output_type": "stream",
     "text": [
      "            timestamp      open      high       low     close      volume\n",
      "0 2024-05-04 21:00:00  63867.74  64112.51  63550.00  63903.91   677.89826\n",
      "1 2024-05-04 22:00:00  63903.91  63945.92  63569.99  63613.92   636.23199\n",
      "2 2024-05-04 23:00:00  63613.92  63932.61  63606.62  63892.04   451.84843\n",
      "3 2024-05-05 00:00:00  63892.03  64188.00  63418.53  63509.52  1260.64900\n",
      "4 2024-05-05 01:00:00  63509.52  63580.00  62822.17  63315.47  1694.41166\n"
     ]
    }
   ],
   "source": [
    "#con ccxt inicializo la api de Binance\n",
    "exchange = ccxt.binance()\n",
    "\n",
    "# elijo el simbolo o ticker de bitcoin y la franja de tiempo\n",
    "symbol = 'BTC/USDT'\n",
    "timeframe = '1h'\n",
    "\n",
    "# aca voy a obtener los milisegundos desde la fecha que elija para entrenar el futuro arbol de decision\n",
    "since = exchange.parse8601('2021–01–01T00:00:00Z')\n",
    "\n",
    "# este va a ser la cantidad de puntos o \"velas\" que vamos a recuperar\n",
    "limit = 1000 \n",
    "\n",
    "# obtenemos las (open-high-low-close-volume bien resumido jeje) OHLCV, de bitcoin, en el marco de tiempo de 1h, desde 2021, con un limite de solo 1000 \"velas\"\n",
    "# y luego le asignamos columnas y convertimos todos los datos obtenidos a un dataframe\n",
    "ohlcv = exchange.fetch_ohlcv(symbol, timeframe, since, limit)\n",
    "columns = ['timestamp', 'open', 'high', 'low', 'close', 'volume']\n",
    "data = pd.DataFrame(ohlcv, columns=columns)\n",
    "\n",
    "# convertimos los milisegundos de unix en un formato de tipo fecha, para poder analizarlo como datetime en un arbol de decision\n",
    "data['timestamp'] = pd.to_datetime(data['timestamp'], unit='ms')\n",
    "print(data.head())"
   ]
  },
  {
   "cell_type": "code",
   "execution_count": 10,
   "metadata": {},
   "outputs": [
    {
     "name": "stdout",
     "output_type": "stream",
     "text": [
      "Datos almacenados en la base de datos.\n",
      "Conexión a MySQL cerrada.\n"
     ]
    }
   ],
   "source": [
    "conn = None\n",
    "try:\n",
    "    conn = mysql.connector.connect(\n",
    "        host='localhost',\n",
    "        database='backtesting',\n",
    "        user='pruebas',\n",
    "        password='contraseñaprueba'\n",
    "    )\n",
    "    if conn.is_connected():\n",
    "        cursor = conn.cursor()\n",
    "\n",
    "        # Crea la tabla si no existe\n",
    "        cursor.execute('''\n",
    "            CREATE TABLE IF NOT EXISTS btc_usdt_1h (\n",
    "                Timestamp DATETIME,\n",
    "                Open DOUBLE,\n",
    "                High DOUBLE,\n",
    "                Low DOUBLE,\n",
    "                Close DOUBLE,\n",
    "                Volume DOUBLE,\n",
    "                PRIMARY KEY (timestamp)\n",
    "            )\n",
    "        ''')\n",
    "\n",
    "        # Inserta los datos en la tabla\n",
    "        for row in data.itertuples(index=False):\n",
    "            cursor.execute('''\n",
    "                REPLACE INTO btc_usdt_1h(Timestamp, Open, High, Low, Close, Volume)\n",
    "                VALUES (%s, %s, %s, %s, %s, %s)\n",
    "            ''', (\n",
    "                row.timestamp.strftime('%Y-%m-%d %H:%M:%S'),\n",
    "                row.open,\n",
    "                row.high,\n",
    "                row.low,\n",
    "                row.close,\n",
    "                row.volume\n",
    "            ))\n",
    "\n",
    "        # Confirma los cambios\n",
    "        conn.commit()\n",
    "        print(\"Datos almacenados en la base de datos.\")\n",
    "\n",
    "except Error as e:\n",
    "    print(f\"Error: {e}\")\n",
    "finally:\n",
    "    if conn is not None and conn.is_connected():\n",
    "        cursor.close()\n",
    "        conn.close()\n",
    "        print(\"Conexión a MySQL cerrada.\")"
   ]
  },
  {
   "cell_type": "code",
   "execution_count": 5,
   "metadata": {},
   "outputs": [
    {
     "name": "stdout",
     "output_type": "stream",
     "text": [
      "            timestamp      open      high       low     close      volume  \\\n",
      "0 2024-04-22 09:00:00  65961.58  66055.17  65801.76  65938.00   798.46267   \n",
      "1 2024-04-22 10:00:00  65938.00  66154.87  65890.00  66048.18   793.68807   \n",
      "2 2024-04-22 11:00:00  66048.18  66108.00  65702.00  65877.47   899.90178   \n",
      "3 2024-04-22 12:00:00  65877.47  65995.48  65626.87  65995.48  1032.65578   \n",
      "4 2024-04-22 13:00:00  65995.48  66260.54  65693.98  66114.00  1532.55331   \n",
      "\n",
      "   MA_10  \n",
      "0    NaN  \n",
      "1    NaN  \n",
      "2    NaN  \n",
      "3    NaN  \n",
      "4    NaN  \n"
     ]
    }
   ],
   "source": [
    "# IMPORTANTE: los primeros 10 registros de la media movil van a ser nulos debido a que aun no hay lo suficientes datos para calcular esta misma\n",
    "data['MA_10'] = data['close'].rolling(window=10).mean()\n",
    "\n",
    "# estas lineas se utilizaran cuando se carguen noticias al DF para realizar el analisis de sentimiento\n",
    "# data['Sentiment'] = data['Noticias'].apply(lambda x: sia.polarity_scores(x)['compound'])\n",
    "\n",
    "print(data.head())"
   ]
  },
  {
   "cell_type": "code",
   "execution_count": 6,
   "metadata": {},
   "outputs": [
    {
     "name": "stdout",
     "output_type": "stream",
     "text": [
      "Model Accuracy: 0.56\n"
     ]
    }
   ],
   "source": [
    "#con Shift desplazamos el indice actual al anterior, con la idea de comparar la columna close con su anterior y en caso de ser mayor devuelva 1 o 0 (True or False)\n",
    "data['Next_Event'] = (data['close'].shift(-1) > data['close']).astype(int)\n",
    "#este va a ser el objetivo, el cual el algoritmo debe predecir\n",
    "target = 'Next_Event'\n",
    "\n",
    "#ahora si eliminamos los valores nulos de la MA10, para el entrenamiento\n",
    "data = data.dropna()\n",
    "#filtramos las columnas \n",
    "features = ['MA_10', 'volume', 'open', 'high', 'low', 'close']\n",
    "X = data[features]\n",
    "#y las separamos de la variable objetivo\n",
    "y = data[target]\n",
    "\n",
    "#realizamos la division de los conjuntos de entrenamiento y los conjuntos de pruebas\n",
    "#test_size->0.2 = 20%, este 20% del total de datos seran las pruebas\n",
    "#random_state=42 se asegura que no varie las divisiones realizadas en el entrenamiento\n",
    "X_train, X_test, y_train, y_test = train_test_split(X, y, test_size=0.2, random_state=42)\n",
    "\n",
    "\n",
    "model = DecisionTreeClassifier(random_state=42)\n",
    "model.fit(X_train, y_train)\n",
    "# Evaluate the model\n",
    "accuracy = model.score(X_test, y_test)\n",
    "print(f'Model Accuracy: {accuracy:.2f}')"
   ]
  },
  {
   "cell_type": "code",
   "execution_count": 7,
   "metadata": {},
   "outputs": [
    {
     "name": "stdout",
     "output_type": "stream",
     "text": [
      "2024-06-02 21:00:20\n",
      "Predicted Next Event: Price Decrease\n"
     ]
    }
   ],
   "source": [
    "zona_horaria = pytz.timezone('America/Argentina/Buenos_Aires')\n",
    "now = datetime.now(zona_horaria)\n",
    "formato_now = now.strftime(\"%Y-%m-%d %H:%M:%S\")\n",
    "\n",
    "#una vez entrenado el modelo, probamos chequeando con los ultimos datos una posible prediccion de si el valor de bitcoin sube o baja\n",
    "new_data = pd.DataFrame({\n",
    " 'MA_10': [data['MA_10'].iloc[-1]],\n",
    " 'volume': [data['volume'].iloc[-1]],\n",
    " 'open': [data['open'].iloc[-1]],\n",
    " 'high': [data['high'].iloc[-1]],\n",
    " 'low': [data['low'].iloc[-1]],\n",
    " 'close': [data['close'].iloc[-1]]\n",
    "})\n",
    "\n",
    "next_event = model.predict(new_data)\n",
    "\n",
    "#agregamos tambien la fecha y hora actual con la idea de mas adelante ir guardando estas predicciones y compararlas con el precio de BTC\n",
    "print(formato_now)\n",
    "print(f'Predicted Next Event: {\"Price Increase\" if next_event[0] == 1 else \"Price Decrease\"}')\n"
   ]
  },
  {
   "cell_type": "markdown",
   "metadata": {},
   "source": [
    "---\n",
    "---"
   ]
  },
  {
   "cell_type": "markdown",
   "metadata": {},
   "source": [
    "Funcion para deteccion de patrones que se va a aplicar en otras como submodulo"
   ]
  },
  {
   "cell_type": "code",
   "execution_count": 8,
   "metadata": {},
   "outputs": [
    {
     "name": "stdout",
     "output_type": "stream",
     "text": [
      "CDLDOJI detected at 2024-06-14 02:34:00\n",
      "CDLDOJI detected at 2024-06-14 02:34:00\n",
      "CDLDOJI detected at 2024-06-14 02:36:00\n",
      "CDLDOJI detected at 2024-06-14 02:36:00\n",
      "CDLDOJI detected at 2024-06-14 02:37:00\n",
      "CDLDOJI detected at 2024-06-14 02:41:00\n",
      "CDLDOJI detected at 2024-06-14 02:43:00\n",
      "CDLDOJI detected at 2024-06-14 02:43:00\n"
     ]
    },
    {
     "ename": "KeyboardInterrupt",
     "evalue": "",
     "output_type": "error",
     "traceback": [
      "\u001b[0;31m---------------------------------------------------------------------------\u001b[0m",
      "\u001b[0;31mKeyboardInterrupt\u001b[0m                         Traceback (most recent call last)",
      "Cell \u001b[0;32mIn[8], line 46\u001b[0m\n\u001b[1;32m     43\u001b[0m             \u001b[38;5;66;03m# Handle the error, sleep, or implement a retry mechanism if needed\u001b[39;00m\n\u001b[1;32m     45\u001b[0m \u001b[38;5;28;01mif\u001b[39;00m \u001b[38;5;18m__name__\u001b[39m \u001b[38;5;241m==\u001b[39m \u001b[38;5;124m\"\u001b[39m\u001b[38;5;124m__main__\u001b[39m\u001b[38;5;124m\"\u001b[39m:\n\u001b[0;32m---> 46\u001b[0m     \u001b[43mmain\u001b[49m\u001b[43m(\u001b[49m\u001b[43m)\u001b[49m\n",
      "Cell \u001b[0;32mIn[8], line 39\u001b[0m, in \u001b[0;36mmain\u001b[0;34m()\u001b[0m\n\u001b[1;32m     36\u001b[0m         \u001b[38;5;28mprint\u001b[39m(\u001b[38;5;124mf\u001b[39m\u001b[38;5;124m'\u001b[39m\u001b[38;5;132;01m{\u001b[39;00mpattern\u001b[38;5;132;01m}\u001b[39;00m\u001b[38;5;124m detected at \u001b[39m\u001b[38;5;132;01m{\u001b[39;00mdf[\u001b[38;5;124m\"\u001b[39m\u001b[38;5;124mtimestamp\u001b[39m\u001b[38;5;124m\"\u001b[39m]\u001b[38;5;241m.\u001b[39miloc[\u001b[38;5;241m-\u001b[39m\u001b[38;5;241m1\u001b[39m]\u001b[38;5;132;01m}\u001b[39;00m\u001b[38;5;124m'\u001b[39m)\n\u001b[1;32m     38\u001b[0m     \u001b[38;5;66;03m# Sleep for a few seconds before fetching the next set of data\u001b[39;00m\n\u001b[0;32m---> 39\u001b[0m     \u001b[43mtime\u001b[49m\u001b[38;5;241;43m.\u001b[39;49m\u001b[43msleep\u001b[49m\u001b[43m(\u001b[49m\u001b[38;5;241;43m10\u001b[39;49m\u001b[43m)\u001b[49m\n\u001b[1;32m     41\u001b[0m \u001b[38;5;28;01mexcept\u001b[39;00m \u001b[38;5;167;01mException\u001b[39;00m \u001b[38;5;28;01mas\u001b[39;00m e:\n\u001b[1;32m     42\u001b[0m     \u001b[38;5;28mprint\u001b[39m(\u001b[38;5;124mf\u001b[39m\u001b[38;5;124m\"\u001b[39m\u001b[38;5;124mError: \u001b[39m\u001b[38;5;132;01m{\u001b[39;00me\u001b[38;5;132;01m}\u001b[39;00m\u001b[38;5;124m\"\u001b[39m)\n",
      "\u001b[0;31mKeyboardInterrupt\u001b[0m: "
     ]
    }
   ],
   "source": [
    "import ccxt\n",
    "import talib\n",
    "import pandas as pd\n",
    "import time\n",
    "\n",
    "# Function to fetch live candlestick data\n",
    "def fetch_candles(symbol, timeframe, limit=100):\n",
    "    exchange = ccxt.binance()  # Replace with your desired exchange\n",
    "    data_market = exchange.fetch_ohlcv(symbol, timeframe, limit=limit)\n",
    "    cols = ['timestamp', 'open', 'high', 'low', 'close', 'volume']\n",
    "    df = pd.DataFrame(data_market, columns= cols)\n",
    "    df['timestamp'] = pd.to_datetime(df['timestamp'], unit='ms')\n",
    "    return df\n",
    "\n",
    "# Function to check for candlestick patterns\n",
    "def find_candle_pattern(df, pattern):\n",
    "    pattern_function = getattr(talib, pattern)\n",
    "    result = pattern_function(df['open'], df['high'], df['low'], df['close'])\n",
    "    return result\n",
    "\n",
    "# Main function\n",
    "def main():\n",
    "    symbol = 'BTC/USDT'  # Replace with the trading pair you're interested in\n",
    "    timeframe = '1m'     # Replace with the desired timeframe\n",
    "\n",
    "    while True:\n",
    "        try:\n",
    "            # Fetch live candlestick data\n",
    "            df = fetch_candles(symbol, timeframe)\n",
    "\n",
    "            # Check for a specific candlestick pattern (e.g., 'CDLDOJI' for Doji pattern)\n",
    "            pattern = 'CDLDOJI'\n",
    "            pattern_result = find_candle_pattern(df, pattern)\n",
    "\n",
    "            # Print the result\n",
    "            if pattern_result.iloc[-1] != 0:\n",
    "                print(f'{pattern} detected at {df[\"timestamp\"].iloc[-1]}')\n",
    "\n",
    "            # Sleep for a few seconds before fetching the next set of data\n",
    "            time.sleep(10)\n",
    "\n",
    "        except Exception as e:\n",
    "            print(f\"Error: {e}\")\n",
    "            # Handle the error, sleep, or implement a retry mechanism if needed\n",
    "\n",
    "if __name__ == \"__main__\":\n",
    "    main()"
   ]
  }
 ],
 "metadata": {
  "kernelspec": {
   "display_name": "env",
   "language": "python",
   "name": "python3"
  },
  "language_info": {
   "codemirror_mode": {
    "name": "ipython",
    "version": 3
   },
   "file_extension": ".py",
   "mimetype": "text/x-python",
   "name": "python",
   "nbconvert_exporter": "python",
   "pygments_lexer": "ipython3",
   "version": "3.8.10"
  }
 },
 "nbformat": 4,
 "nbformat_minor": 2
}
