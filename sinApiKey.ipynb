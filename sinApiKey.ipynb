{
 "cells": [
  {
   "cell_type": "code",
   "execution_count": 2,
   "metadata": {},
   "outputs": [
    {
     "name": "stdout",
     "output_type": "stream",
     "text": [
      "Requirement already satisfied: ccxt in ./env/lib/python3.11/site-packages (4.3.38)\n",
      "Requirement already satisfied: pandas in ./env/lib/python3.11/site-packages (2.2.2)\n",
      "Requirement already satisfied: scikit-learn in ./env/lib/python3.11/site-packages (1.5.0)\n",
      "Requirement already satisfied: nltk in ./env/lib/python3.11/site-packages (3.8.1)\n",
      "Requirement already satisfied: pytz in ./env/lib/python3.11/site-packages (2024.1)\n",
      "Requirement already satisfied: setuptools>=60.9.0 in ./env/lib/python3.11/site-packages (from ccxt) (70.0.0)\n",
      "Requirement already satisfied: certifi>=2018.1.18 in ./env/lib/python3.11/site-packages (from ccxt) (2024.2.2)\n",
      "Requirement already satisfied: requests>=2.18.4 in ./env/lib/python3.11/site-packages (from ccxt) (2.32.3)\n",
      "Requirement already satisfied: cryptography>=2.6.1 in ./env/lib/python3.11/site-packages (from ccxt) (42.0.7)\n",
      "Requirement already satisfied: typing-extensions>=4.4.0 in ./env/lib/python3.11/site-packages (from ccxt) (4.12.0)\n",
      "Requirement already satisfied: aiohttp>=3.8 in ./env/lib/python3.11/site-packages (from ccxt) (3.9.5)\n",
      "Requirement already satisfied: aiodns>=1.1.1 in ./env/lib/python3.11/site-packages (from ccxt) (3.2.0)\n",
      "Requirement already satisfied: yarl>=1.7.2 in ./env/lib/python3.11/site-packages (from ccxt) (1.9.4)\n",
      "Requirement already satisfied: numpy>=1.23.2 in ./env/lib/python3.11/site-packages (from pandas) (1.26.4)\n",
      "Requirement already satisfied: python-dateutil>=2.8.2 in ./env/lib/python3.11/site-packages (from pandas) (2.9.0.post0)\n",
      "Requirement already satisfied: tzdata>=2022.7 in ./env/lib/python3.11/site-packages (from pandas) (2024.1)\n",
      "Requirement already satisfied: scipy>=1.6.0 in ./env/lib/python3.11/site-packages (from scikit-learn) (1.13.1)\n",
      "Requirement already satisfied: joblib>=1.2.0 in ./env/lib/python3.11/site-packages (from scikit-learn) (1.4.2)\n",
      "Requirement already satisfied: threadpoolctl>=3.1.0 in ./env/lib/python3.11/site-packages (from scikit-learn) (3.5.0)\n",
      "Requirement already satisfied: click in ./env/lib/python3.11/site-packages (from nltk) (8.1.7)\n",
      "Requirement already satisfied: regex>=2021.8.3 in ./env/lib/python3.11/site-packages (from nltk) (2024.5.15)\n",
      "Requirement already satisfied: tqdm in ./env/lib/python3.11/site-packages (from nltk) (4.66.4)\n",
      "Requirement already satisfied: pycares>=4.0.0 in ./env/lib/python3.11/site-packages (from aiodns>=1.1.1->ccxt) (4.4.0)\n",
      "Requirement already satisfied: aiosignal>=1.1.2 in ./env/lib/python3.11/site-packages (from aiohttp>=3.8->ccxt) (1.3.1)\n",
      "Requirement already satisfied: attrs>=17.3.0 in ./env/lib/python3.11/site-packages (from aiohttp>=3.8->ccxt) (23.2.0)\n",
      "Requirement already satisfied: frozenlist>=1.1.1 in ./env/lib/python3.11/site-packages (from aiohttp>=3.8->ccxt) (1.4.1)\n",
      "Requirement already satisfied: multidict<7.0,>=4.5 in ./env/lib/python3.11/site-packages (from aiohttp>=3.8->ccxt) (6.0.5)\n",
      "Requirement already satisfied: cffi>=1.12 in ./env/lib/python3.11/site-packages (from cryptography>=2.6.1->ccxt) (1.16.0)\n",
      "Requirement already satisfied: six>=1.5 in ./env/lib/python3.11/site-packages (from python-dateutil>=2.8.2->pandas) (1.16.0)\n",
      "Requirement already satisfied: charset-normalizer<4,>=2 in ./env/lib/python3.11/site-packages (from requests>=2.18.4->ccxt) (3.3.2)\n",
      "Requirement already satisfied: idna<4,>=2.5 in ./env/lib/python3.11/site-packages (from requests>=2.18.4->ccxt) (3.7)\n",
      "Requirement already satisfied: urllib3<3,>=1.21.1 in ./env/lib/python3.11/site-packages (from requests>=2.18.4->ccxt) (2.2.1)\n",
      "Requirement already satisfied: pycparser in ./env/lib/python3.11/site-packages (from cffi>=1.12->cryptography>=2.6.1->ccxt) (2.22)\n"
     ]
    }
   ],
   "source": [
    "!pip install ccxt pandas scikit-learn nltk pytz mysql-connector-python"
   ]
  },
  {
   "cell_type": "code",
   "execution_count": 9,
   "metadata": {},
   "outputs": [
    {
     "name": "stderr",
     "output_type": "stream",
     "text": [
      "[nltk_data] Downloading package vader_lexicon to\n",
      "[nltk_data]     /home/mjb/nltk_data...\n",
      "[nltk_data]   Package vader_lexicon is already up-to-date!\n"
     ]
    }
   ],
   "source": [
    "import ccxt\n",
    "import pandas as pd\n",
    "from sklearn.model_selection import train_test_split\n",
    "from sklearn.tree import DecisionTreeClassifier\n",
    "import nltk\n",
    "from nltk.sentiment.vader import SentimentIntensityAnalyzer\n",
    "from datetime import datetime\n",
    "import pytz\n",
    "import mysql.connector\n",
    "from mysql.connector import Error\n",
    "\n",
    "nltk.download('vader_lexicon')\n",
    "sia = SentimentIntensityAnalyzer()"
   ]
  },
  {
   "cell_type": "code",
   "execution_count": 10,
   "metadata": {},
   "outputs": [
    {
     "name": "stdout",
     "output_type": "stream",
     "text": [
      "            timestamp      open      high       low     close      volume\n",
      "0 2024-04-25 06:00:00  64223.36  64391.99  64195.70  64288.00   363.60804\n",
      "1 2024-04-25 07:00:00  64288.00  64379.85  63824.07  64017.99   951.17474\n",
      "2 2024-04-25 08:00:00  64017.99  64176.86  63708.20  63948.78  1329.27338\n",
      "3 2024-04-25 09:00:00  63948.78  64192.00  63809.13  63966.02   833.85634\n",
      "4 2024-04-25 10:00:00  63966.03  63966.03  63337.25  63462.01  2418.87397\n"
     ]
    }
   ],
   "source": [
    "#con ccxt inicializo la api de Binance\n",
    "exchange = ccxt.binance()\n",
    "\n",
    "# elijo el simbolo o ticker de bitcoin y la franja de tiempo\n",
    "symbol = 'BTC/USDT'\n",
    "timeframe = '1h'\n",
    "\n",
    "# aca voy a obtener los milisegundos desde la fecha que elija para entrenar el futuro arbol de decision\n",
    "since = exchange.parse8601('2021–01–01T00:00:00Z')\n",
    "\n",
    "# este va a ser la cantidad de puntos o \"velas\" que vamos a recuperar\n",
    "limit = 1000 \n",
    "\n",
    "# obtenemos las (open-high-low-close-volume bien resumido jeje) OHLCV, de bitcoin, en el marco de tiempo de 1h, desde 2021, con un limite de solo 1000 \"velas\"\n",
    "# y luego le asignamos columnas y convertimos todos los datos obtenidos a un dataframe\n",
    "ohlcv = exchange.fetch_ohlcv(symbol, timeframe, since, limit)\n",
    "columns = ['timestamp', 'open', 'high', 'low', 'close', 'volume']\n",
    "data = pd.DataFrame(ohlcv, columns=columns)\n",
    "\n",
    "# convertimos los milisegundos de unix en un formato de tipo fecha, para poder analizarlo como datetime en un arbol de decision\n",
    "data['timestamp'] = pd.to_datetime(data['timestamp'], unit='ms')\n",
    "print(data.head())"
   ]
  },
  {
   "cell_type": "code",
   "execution_count": 12,
   "metadata": {},
   "outputs": [
    {
     "name": "stdout",
     "output_type": "stream",
     "text": [
      "Datos almacenados en la base de datos.\n",
      "Conexión a MySQL cerrada.\n"
     ]
    }
   ],
   "source": [
    "conn = None\n",
    "try:\n",
    "    conn = mysql.connector.connect(\n",
    "        host='localhost',\n",
    "        database='backtesting',\n",
    "        user='pruebas',\n",
    "        password='contraseñaprueba'\n",
    "    )\n",
    "    if conn.is_connected():\n",
    "        cursor = conn.cursor()\n",
    "\n",
    "        # Crea la tabla si no existe\n",
    "        cursor.execute('''\n",
    "            CREATE TABLE IF NOT EXISTS btc_usdt (\n",
    "                timestamp DATETIME,\n",
    "                open DOUBLE,\n",
    "                high DOUBLE,\n",
    "                low DOUBLE,\n",
    "                close DOUBLE,\n",
    "                volume DOUBLE,\n",
    "                PRIMARY KEY (timestamp)\n",
    "            )\n",
    "        ''')\n",
    "\n",
    "        # Inserta los datos en la tabla\n",
    "        for row in data.itertuples(index=False):\n",
    "            cursor.execute('''\n",
    "                REPLACE INTO btc_usdt(timestamp, open, high, low, close, volume)\n",
    "                VALUES (%s, %s, %s, %s, %s, %s)\n",
    "            ''', (\n",
    "                row.timestamp.strftime('%Y-%m-%d %H:%M:%S'),\n",
    "                row.open,\n",
    "                row.high,\n",
    "                row.low,\n",
    "                row.close,\n",
    "                row.volume\n",
    "            ))\n",
    "\n",
    "        # Confirma los cambios\n",
    "        conn.commit()\n",
    "        print(\"Datos almacenados en la base de datos.\")\n",
    "\n",
    "except Error as e:\n",
    "    print(f\"Error: {e}\")\n",
    "finally:\n",
    "    if conn is not None and conn.is_connected():\n",
    "        cursor.close()\n",
    "        conn.close()\n",
    "        print(\"Conexión a MySQL cerrada.\")"
   ]
  },
  {
   "cell_type": "code",
   "execution_count": 5,
   "metadata": {},
   "outputs": [
    {
     "name": "stdout",
     "output_type": "stream",
     "text": [
      "            timestamp      open      high       low     close      volume  \\\n",
      "0 2024-04-22 09:00:00  65961.58  66055.17  65801.76  65938.00   798.46267   \n",
      "1 2024-04-22 10:00:00  65938.00  66154.87  65890.00  66048.18   793.68807   \n",
      "2 2024-04-22 11:00:00  66048.18  66108.00  65702.00  65877.47   899.90178   \n",
      "3 2024-04-22 12:00:00  65877.47  65995.48  65626.87  65995.48  1032.65578   \n",
      "4 2024-04-22 13:00:00  65995.48  66260.54  65693.98  66114.00  1532.55331   \n",
      "\n",
      "   MA_10  \n",
      "0    NaN  \n",
      "1    NaN  \n",
      "2    NaN  \n",
      "3    NaN  \n",
      "4    NaN  \n"
     ]
    }
   ],
   "source": [
    "# IMPORTANTE: los primeros 10 registros de la media movil van a ser nulos debido a que aun no hay lo suficientes datos para calcular esta misma\n",
    "data['MA_10'] = data['close'].rolling(window=10).mean()\n",
    "\n",
    "# estas lineas se utilizaran cuando se carguen noticias al DF para realizar el analisis de sentimiento\n",
    "# data['Sentiment'] = data['Noticias'].apply(lambda x: sia.polarity_scores(x)['compound'])\n",
    "\n",
    "print(data.head())"
   ]
  },
  {
   "cell_type": "code",
   "execution_count": 6,
   "metadata": {},
   "outputs": [
    {
     "name": "stdout",
     "output_type": "stream",
     "text": [
      "Model Accuracy: 0.56\n"
     ]
    }
   ],
   "source": [
    "#con Shift desplazamos el indice actual al anterior, con la idea de comparar la columna close con su anterior y en caso de ser mayor devuelva 1 o 0 (True or False)\n",
    "data['Next_Event'] = (data['close'].shift(-1) > data['close']).astype(int)\n",
    "#este va a ser el objetivo, el cual el algoritmo debe predecir\n",
    "target = 'Next_Event'\n",
    "\n",
    "#ahora si eliminamos los valores nulos de la MA10, para el entrenamiento\n",
    "data = data.dropna()\n",
    "#filtramos las columnas \n",
    "features = ['MA_10', 'volume', 'open', 'high', 'low', 'close']\n",
    "X = data[features]\n",
    "#y las separamos de la variable objetivo\n",
    "y = data[target]\n",
    "\n",
    "#realizamos la division de los conjuntos de entrenamiento y los conjuntos de pruebas\n",
    "#test_size->0.2 = 20%, este 20% del total de datos seran las pruebas\n",
    "#random_state=42 se asegura que no varie las divisiones realizadas en el entrenamiento\n",
    "X_train, X_test, y_train, y_test = train_test_split(X, y, test_size=0.2, random_state=42)\n",
    "\n",
    "\n",
    "model = DecisionTreeClassifier(random_state=42)\n",
    "model.fit(X_train, y_train)\n",
    "# Evaluate the model\n",
    "accuracy = model.score(X_test, y_test)\n",
    "print(f'Model Accuracy: {accuracy:.2f}')"
   ]
  },
  {
   "cell_type": "code",
   "execution_count": 7,
   "metadata": {},
   "outputs": [
    {
     "name": "stdout",
     "output_type": "stream",
     "text": [
      "2024-06-02 21:00:20\n",
      "Predicted Next Event: Price Decrease\n"
     ]
    }
   ],
   "source": [
    "zona_horaria = pytz.timezone('America/Argentina/Buenos_Aires')\n",
    "now = datetime.now(zona_horaria)\n",
    "formato_now = now.strftime(\"%Y-%m-%d %H:%M:%S\")\n",
    "\n",
    "#una vez entrenado el modelo, probamos chequeando con los ultimos datos una posible prediccion de si el valor de bitcoin sube o baja\n",
    "new_data = pd.DataFrame({\n",
    " 'MA_10': [data['MA_10'].iloc[-1]],\n",
    " 'volume': [data['volume'].iloc[-1]],\n",
    " 'open': [data['open'].iloc[-1]],\n",
    " 'high': [data['high'].iloc[-1]],\n",
    " 'low': [data['low'].iloc[-1]],\n",
    " 'close': [data['close'].iloc[-1]]\n",
    "})\n",
    "\n",
    "next_event = model.predict(new_data)\n",
    "\n",
    "#agregamos tambien la fecha y hora actual con la idea de mas adelante ir guardando estas predicciones y compararlas con el precio de BTC\n",
    "print(formato_now)\n",
    "print(f'Predicted Next Event: {\"Price Increase\" if next_event[0] == 1 else \"Price Decrease\"}')\n"
   ]
  }
 ],
 "metadata": {
  "kernelspec": {
   "display_name": "env",
   "language": "python",
   "name": "python3"
  },
  "language_info": {
   "codemirror_mode": {
    "name": "ipython",
    "version": 3
   },
   "file_extension": ".py",
   "mimetype": "text/x-python",
   "name": "python",
   "nbconvert_exporter": "python",
   "pygments_lexer": "ipython3",
   "version": "3.8.10"
  }
 },
 "nbformat": 4,
 "nbformat_minor": 2
}
