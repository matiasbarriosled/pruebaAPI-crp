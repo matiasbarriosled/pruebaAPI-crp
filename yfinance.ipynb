{
 "cells": [
  {
   "cell_type": "code",
   "execution_count": null,
   "metadata": {},
   "outputs": [],
   "source": [
    "import pandas as pd\n",
    "import yfinance as yf\n",
    "import numpy as np\n",
    "import talib as ta\n",
    "import plotly.express as px\n",
    "from sklearn.metrics import classification_report\n",
    "from xgboost import XGBClassifier\n",
    "\n",
    "np.random.seed(42)"
   ]
  },
  {
   "cell_type": "code",
   "execution_count": null,
   "metadata": {},
   "outputs": [],
   "source": [
    "# Get the data for the stock\n",
    "start_date = '2012-01-01'\n",
    "end_train = '2017-12-31'\n",
    "end_date = '2023-12-31'\n",
    "ticker = 'AAPL'\n",
    "\n",
    "df = yf.download(ticker, start=start_date, end=end_date)"
   ]
  },
  {
   "cell_type": "code",
   "execution_count": null,
   "metadata": {},
   "outputs": [],
   "source": [
    "df[\"Adj Low\"] = df[\"Low\"] - (df[\"Close\"]-df[\"Adj Close\"])\n",
    "df[\"Adj High\"] = df[\"High\"] - (df[\"Close\"]-df[\"Adj Close\"])"
   ]
  },
  {
   "cell_type": "code",
   "execution_count": null,
   "metadata": {},
   "outputs": [],
   "source": [
    "df[\"Returns\"] = df[\"Adj Close\"].pct_change()\n",
    "\n",
    "df[\"Target\"] = df[\"Returns\"].shift(-1)\n",
    "df[\"Target_cat\"] = np.where(df[\"Target\"] > 0, 1, 0)"
   ]
  },
  {
   "cell_type": "code",
   "execution_count": null,
   "metadata": {},
   "outputs": [],
   "source": [
    "df[\"std15\"] = df[\"Adj Close\"].rolling(15).std()\n",
    "df[\"moving_average\"] = df[\"Adj Close\"].rolling(15).mean()\n",
    "\n",
    "df[\"zscore\"] = (df[\"Adj Close\"]-df[\"moving_average\"])/df[\"std15\"]\n",
    "df[\"aroon\"] = ta.AROONOSC(df[\"Adj High\"], df[\"Adj Low\"], timeperiod=14)\n",
    "df[\"price_trend\"] = df[\"Returns\"].shift().rolling(4).sum()"
   ]
  },
  {
   "cell_type": "code",
   "execution_count": null,
   "metadata": {},
   "outputs": [],
   "source": [
    "df[\"zscore\"] = pd.qcut(df[\"zscore\"], 6, labels = False)\n",
    "df[\"aroon\"] = pd.qcut(df[\"aroon\"], 4, labels = False)\n",
    "df[\"price_trend\"] = pd.qcut(df[\"price_trend\"], 6, labels = False)"
   ]
  },
  {
   "cell_type": "code",
   "execution_count": null,
   "metadata": {},
   "outputs": [],
   "source": [
    "df = df.dropna()\n",
    "features = [\"aroon\", \"zscore\", \"price_trend\"]"
   ]
  },
  {
   "cell_type": "code",
   "execution_count": null,
   "metadata": {},
   "outputs": [],
   "source": [
    "X_train, X_test = df[features].loc[start_date:end_train], df[features].loc[end_train:end_date]\n",
    "y_train, y_test = df[\"Target_cat\"].loc[start_date:end_train], df[\"Target_cat\"].loc[end_train:end_date]"
   ]
  },
  {
   "cell_type": "code",
   "execution_count": null,
   "metadata": {},
   "outputs": [],
   "source": [
    "model = XGBClassifier()\n",
    "model.fit(X_train, y_train)"
   ]
  },
  {
   "cell_type": "code",
   "execution_count": null,
   "metadata": {},
   "outputs": [],
   "source": [
    "y_pred = model.predict(X_test)\n",
    "print(classification_report(y_test, y_pred))"
   ]
  },
  {
   "cell_type": "markdown",
   "metadata": {},
   "source": [
    "---\n",
    "---\n",
    "BACKTESTING"
   ]
  },
  {
   "cell_type": "code",
   "execution_count": null,
   "metadata": {},
   "outputs": [],
   "source": [
    "df[\"train_test\"] = np.where(df.index > end_train, \"Test\", \"Train\")\n",
    "\n",
    "y_pred_all = model.predict(df[features])\n",
    "df[\"Signal\"] = np.where(y_pred_all == 1, 1, -1)\n",
    "\n",
    "df[\"Model_Returns\"] = df[\"Signal\"] * df[\"Target\"]"
   ]
  },
  {
   "cell_type": "code",
   "execution_count": null,
   "metadata": {},
   "outputs": [],
   "source": [
    "fig = px.line(df, x=df.index, y=df[\"Model_Returns\"].cumsum()*100, color=\"train_test\",\n",
    "              labels={\"y\": \"Cumulative Returns (%)\"},\n",
    "              title=f\"{model.__class__.__name__} - {ticker}\",\n",
    "              line_shape=\"linear\")\n",
    "\n",
    "fig.show()"
   ]
  }
 ],
 "metadata": {
  "kernelspec": {
   "display_name": "env",
   "language": "python",
   "name": "python3"
  },
  "language_info": {
   "codemirror_mode": {
    "name": "ipython",
    "version": 3
   },
   "file_extension": ".py",
   "mimetype": "text/x-python",
   "name": "python",
   "nbconvert_exporter": "python",
   "pygments_lexer": "ipython3",
   "version": "3.11.2"
  }
 },
 "nbformat": 4,
 "nbformat_minor": 2
}
