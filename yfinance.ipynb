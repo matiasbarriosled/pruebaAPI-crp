{
 "cells": [
  {
   "cell_type": "code",
   "execution_count": null,
   "metadata": {},
   "outputs": [],
   "source": [
    "from datetime import date\n",
    "import pandas as pd\n",
    "import yfinance as yf\n",
    "\n",
    "howmanyyears = int(input(\"How many years? > \")) # <-- Getting user input for years\n",
    "today = date.today()\n",
    "END_DATE = today.isoformat()\n",
    "START_DATE = date(today.year - howmanyyears, today.month, today.day).isoformat()\n",
    "\n",
    "whichstock = input(\"Which stock? > \") # <-- Getting user input for stock name\n",
    "data = yf.download(whichstock, start=START_DATE, end=END_DATE)\n",
    "\n",
    "data.reset_index(inplace=True)\n",
    "data['Date'] = pd.to_datetime(data.Date) # <-- Inserting the 'Date' Feature\n",
    "\n",
    "# Outputting the first 15 rows of data\n",
    "print(data.head(15)) \n",
    "print(f\"Data: {data.shape}\") "
   ]
  }
 ],
 "metadata": {
  "kernelspec": {
   "display_name": "env",
   "language": "python",
   "name": "python3"
  },
  "language_info": {
   "codemirror_mode": {
    "name": "ipython",
    "version": 3
   },
   "file_extension": ".py",
   "mimetype": "text/x-python",
   "name": "python",
   "nbconvert_exporter": "python",
   "pygments_lexer": "ipython3",
   "version": "3.11.2"
  }
 },
 "nbformat": 4,
 "nbformat_minor": 2
}
